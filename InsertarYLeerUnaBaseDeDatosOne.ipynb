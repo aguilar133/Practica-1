{
 "cells": [
  {
   "cell_type": "code",
   "execution_count": null,
   "id": "26ac00fe",
   "metadata": {},
   "outputs": [],
   "source": [
    "import sqlite3"
   ]
  },
  {
   "cell_type": "code",
   "execution_count": null,
   "id": "d68d9174",
   "metadata": {},
   "outputs": [],
   "source": [
    "conexion = sqlite3.connect(\"ejemplo.db\")\n",
    "cursor = conexion.cursor()\n",
    "cursor.execute(\"CREATE TABLE estudiantes (email VARCHAR(100),carrera VARCHAR(100),nombre VARCHAR(100),edad INTEGER)\")\n",
    "conexion.close()"
   ]
  },
  {
   "cell_type": "code",
   "execution_count": null,
   "id": "45731667",
   "metadata": {},
   "outputs": [],
   "source": [
    "conexion = sqlite3.connect(\"ejemplo.db\")\n",
    "cursor = conexion.cursor()\n",
    "cursor.execute(\"INSERT INTO estudiantes  VALUES('art.loge@gmail.com','Ingenieria en sistemas computacionales','Fabian Arturo Tapia Barroso',29)\")\n",
    "conexion.commit()\n",
    "conexion.close()"
   ]
  },
  {
   "cell_type": "code",
   "execution_count": null,
   "id": "9515bac3",
   "metadata": {},
   "outputs": [],
   "source": [
    "conexion = sqlite3.connect(\"ejemplo.db\")\n",
    "cursor = conexion.cursor()\n",
    "cursor.execute(\"SELECT * FROM estudiantes\")\n",
    "estudiantes = cursor.fetchone()\n",
    "conexion.close()\n",
    "print(estudiantes)"
   ]
  }
 ],
 "metadata": {
  "kernelspec": {
   "display_name": "Python 3",
   "language": "python",
   "name": "python3"
  },
  "language_info": {
   "codemirror_mode": {
    "name": "ipython",
    "version": 3
   },
   "file_extension": ".py",
   "mimetype": "text/x-python",
   "name": "python",
   "nbconvert_exporter": "python",
   "pygments_lexer": "ipython3",
   "version": "3.8.8"
  }
 },
 "nbformat": 4,
 "nbformat_minor": 5
}
