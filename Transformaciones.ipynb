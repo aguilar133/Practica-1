{
 "cells": [
  {
   "cell_type": "code",
   "execution_count": 1,
   "id": "f8bbb9a0",
   "metadata": {},
   "outputs": [
    {
     "data": {
      "text/plain": [
       "array([[75, 56, 18, 50],\n",
       "       [49, 41, 28, 37],\n",
       "       [72,  9, 51, 26]])"
      ]
     },
     "execution_count": 1,
     "metadata": {},
     "output_type": "execute_result"
    }
   ],
   "source": [
    "import numpy as np \n",
    "\n",
    "arr_ent = np.random.randint(100,size=(3,4))\n",
    "arr_ent"
   ]
  },
  {
   "cell_type": "code",
   "execution_count": 2,
   "id": "9d656b9b",
   "metadata": {},
   "outputs": [
    {
     "data": {
      "text/plain": [
       "array([[75., 56., 18., 50.],\n",
       "       [49., 41., 28., 37.],\n",
       "       [72.,  9., 51., 26.]])"
      ]
     },
     "execution_count": 2,
     "metadata": {},
     "output_type": "execute_result"
    }
   ],
   "source": [
    "arr_ent.astype(float) #EquipoKND"
   ]
  },
  {
   "cell_type": "code",
   "execution_count": 3,
   "id": "245c3e04",
   "metadata": {},
   "outputs": [
    {
     "data": {
      "text/plain": [
       "array([[75, 56, 18, 50],\n",
       "       [49, 41, 28, 37],\n",
       "       [72,  9, 51, 26]])"
      ]
     },
     "execution_count": 3,
     "metadata": {},
     "output_type": "execute_result"
    }
   ],
   "source": [
    "arr_ent"
   ]
  },
  {
   "cell_type": "code",
   "execution_count": 4,
   "id": "62554b4d",
   "metadata": {},
   "outputs": [
    {
     "data": {
      "text/plain": [
       "array([[18, 50, 56, 75],\n",
       "       [28, 37, 41, 49],\n",
       "       [ 9, 26, 51, 72]])"
      ]
     },
     "execution_count": 4,
     "metadata": {},
     "output_type": "execute_result"
    }
   ],
   "source": [
    "arr_ent.sort()\n",
    "arr_ent"
   ]
  },
  {
   "cell_type": "code",
   "execution_count": 5,
   "id": "54fad3f2",
   "metadata": {},
   "outputs": [
    {
     "data": {
      "text/plain": [
       "array([[ 9, 26, 41, 49],\n",
       "       [18, 37, 51, 72],\n",
       "       [28, 50, 56, 75]])"
      ]
     },
     "execution_count": 5,
     "metadata": {},
     "output_type": "execute_result"
    }
   ],
   "source": [
    "arr_ent.sort(axis=0)\n",
    "arr_ent"
   ]
  },
  {
   "cell_type": "code",
   "execution_count": 6,
   "id": "dddafe9b",
   "metadata": {},
   "outputs": [
    {
     "data": {
      "text/plain": [
       "array([[ 9, 26, 41, 49],\n",
       "       [18, 37, 51, 72],\n",
       "       [28, 50, 56, 75]])"
      ]
     },
     "execution_count": 6,
     "metadata": {},
     "output_type": "execute_result"
    }
   ],
   "source": [
    "arr_ent"
   ]
  },
  {
   "cell_type": "code",
   "execution_count": 7,
   "id": "e21103f5",
   "metadata": {},
   "outputs": [
    {
     "data": {
      "text/plain": [
       "array([[ 9, 26, 41],\n",
       "       [49, 18, 37],\n",
       "       [51, 72, 28],\n",
       "       [50, 56, 75]])"
      ]
     },
     "execution_count": 7,
     "metadata": {},
     "output_type": "execute_result"
    }
   ],
   "source": [
    "arr_ent = arr_ent.reshape(4,3) #EquipoKND\n",
    "arr_ent"
   ]
  },
  {
   "cell_type": "code",
   "execution_count": 8,
   "id": "545d93d0",
   "metadata": {},
   "outputs": [
    {
     "name": "stdout",
     "output_type": "stream",
     "text": [
      "[[ 9 26 41]\n",
      " [49 18 37]\n",
      " [51 72 28]\n",
      " [50 56 75]]\n",
      "[ 9 26 41 49 18 37 51 72 28 50 56 75]\n"
     ]
    }
   ],
   "source": [
    "plano_arr = arr_ent.flatten()\n",
    "\n",
    "print(arr_ent)\n",
    "print(plano_arr)"
   ]
  },
  {
   "cell_type": "code",
   "execution_count": 9,
   "id": "c66d2543",
   "metadata": {},
   "outputs": [
    {
     "data": {
      "text/plain": [
       "[9, 26, 41, 49, 18, 37, 51, 72, 28, 50, 56, 75]"
      ]
     },
     "execution_count": 9,
     "metadata": {},
     "output_type": "execute_result"
    }
   ],
   "source": [
    "lista_arr = plano_arr.tolist()\n",
    "lista_arr"
   ]
  },
  {
   "cell_type": "code",
   "execution_count": 10,
   "id": "692ccb05",
   "metadata": {},
   "outputs": [
    {
     "data": {
      "text/plain": [
       "[array([[ 9, 26, 41]]),\n",
       " array([[49, 18, 37]]),\n",
       " array([[51, 72, 28]]),\n",
       " array([[50, 56, 75]])]"
      ]
     },
     "execution_count": 10,
     "metadata": {},
     "output_type": "execute_result"
    }
   ],
   "source": [
    "arrays= np.split(arr_ent,4)\n",
    "arrays"
   ]
  },
  {
   "cell_type": "code",
   "execution_count": 11,
   "id": "b6b31268",
   "metadata": {},
   "outputs": [
    {
     "data": {
      "text/plain": [
       "array([[49, 18, 37],\n",
       "       [ 9, 26, 41]])"
      ]
     },
     "execution_count": 11,
     "metadata": {},
     "output_type": "execute_result"
    }
   ],
   "source": [
    "np.concatenate((arrays[1],arrays[0]),axis=0)"
   ]
  },
  {
   "cell_type": "code",
   "execution_count": 12,
   "id": "86e0e405",
   "metadata": {},
   "outputs": [
    {
     "data": {
      "text/plain": [
       "array([[ 9, 26, 41],\n",
       "       [49, 18, 37],\n",
       "       [51, 72, 28],\n",
       "       [50, 56, 75]])"
      ]
     },
     "execution_count": 12,
     "metadata": {},
     "output_type": "execute_result"
    }
   ],
   "source": [
    "arr_ent"
   ]
  },
  {
   "cell_type": "code",
   "execution_count": 13,
   "id": "b3b213e8",
   "metadata": {},
   "outputs": [
    {
     "data": {
      "text/plain": [
       "array([[ 9, 49, 51, 50],\n",
       "       [26, 18, 72, 56],\n",
       "       [41, 37, 28, 75]])"
      ]
     },
     "execution_count": 13,
     "metadata": {},
     "output_type": "execute_result"
    }
   ],
   "source": [
    "t_arr = arr_ent.T\n",
    "t_arr"
   ]
  },
  {
   "cell_type": "code",
   "execution_count": null,
   "id": "8465167b",
   "metadata": {},
   "outputs": [],
   "source": []
  }
 ],
 "metadata": {
  "kernelspec": {
   "display_name": "Python 3",
   "language": "python",
   "name": "python3"
  },
  "language_info": {
   "codemirror_mode": {
    "name": "ipython",
    "version": 3
   },
   "file_extension": ".py",
   "mimetype": "text/x-python",
   "name": "python",
   "nbconvert_exporter": "python",
   "pygments_lexer": "ipython3",
   "version": "3.8.8"
  }
 },
 "nbformat": 4,
 "nbformat_minor": 5
}
