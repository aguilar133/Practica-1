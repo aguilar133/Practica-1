{
 "cells": [
  {
   "cell_type": "code",
   "execution_count": null,
   "id": "0f31b95b",
   "metadata": {},
   "outputs": [],
   "source": [
    "import sqlite3"
   ]
  },
  {
   "cell_type": "code",
   "execution_count": null,
   "id": "64c043a3",
   "metadata": {},
   "outputs": [],
   "source": [
    "conexion = sqlite3.connect(\"ejemplo.db\")\n",
    "cursor = conexion.cursor()\n",
    "usuarios = [\n",
    "    ('emailone@gmail.com','Biomedica','Tonathiu Vargas',18),\n",
    "    ('emailtwo@gmail.com','Administración','Eduardo Pulido',20),\n",
    "    ('emailtree@gmail.com','Ingenieria en sistemas computacionales','Guadalupe America Rico Jimenez',17)\n",
    "]\n",
    "cursor.executemany(\"INSERT INTO estudiantes VALUES(?,?,?,?)\",usuarios)\n",
    "conexion.commit()\n",
    "conexion.close()"
   ]
  },
  {
   "cell_type": "code",
   "execution_count": null,
   "id": "8ddce671",
   "metadata": {},
   "outputs": [],
   "source": [
    "conexion = sqlite3.connect(\"ejemplo.db\")\n",
    "cursor = conexion.cursor()\n",
    "cursor.execute(\"SELECT * FROM estudiantes\")\n",
    "estudiantes = cursor.fetchall()\n",
    "conexion.close()\n",
    "for estudiante in estudiantes:\n",
    "    print(estudiante)"
   ]
  }
 ],
 "metadata": {
  "kernelspec": {
   "display_name": "Python 3",
   "language": "python",
   "name": "python3"
  },
  "language_info": {
   "codemirror_mode": {
    "name": "ipython",
    "version": 3
   },
   "file_extension": ".py",
   "mimetype": "text/x-python",
   "name": "python",
   "nbconvert_exporter": "python",
   "pygments_lexer": "ipython3",
   "version": "3.8.8"
  }
 },
 "nbformat": 4,
 "nbformat_minor": 5
}
